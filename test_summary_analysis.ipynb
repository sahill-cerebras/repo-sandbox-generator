{
 "cells": [
  {
   "cell_type": "code",
   "execution_count": 6,
   "id": "170be259",
   "metadata": {},
   "outputs": [],
   "source": [
    "import json\n",
    "\n",
    "def analyze_build_results(filename):\n",
    "    \"\"\"\n",
    "    Reads a JSON file and provides a complete breakdown of build and test outcomes.\n",
    "\n",
    "    Returns:\n",
    "        tuple: (summary_dict, individual_counts_dict)\n",
    "    \"\"\"\n",
    "    successful_builds = 0\n",
    "    failed_builds = 0\n",
    "    builds_with_failing_tests = 0\n",
    "    builds_with_passing_tests = 0\n",
    "    \n",
    "    # This dictionary will store counts for all combinations of build_ok and return_code.\n",
    "    individual_counts = {}\n",
    "\n",
    "    try:\n",
    "        with open(filename, 'r') as file:\n",
    "            data = json.load(file)\n",
    "\n",
    "        if 'results' in data and isinstance(data['results'], list):\n",
    "            for result in data['results']:\n",
    "                build_ok = result.get('build_ok')\n",
    "                return_code = result.get('return_code')\n",
    "                \n",
    "                # Use a tuple for the key to get individual outcome counts\n",
    "                key = (build_ok, return_code)\n",
    "                individual_counts[key] = individual_counts.get(key, 0) + 1\n",
    "\n",
    "                # Tally builds based on their outcome\n",
    "                if build_ok is True:\n",
    "                    if return_code == 0:\n",
    "                        builds_with_passing_tests += 1\n",
    "                        successful_builds += 1\n",
    "                    else:\n",
    "                        builds_with_failing_tests += 1\n",
    "                        # Note: builds with failing tests are still \"successful\" in terms of build_ok=true\n",
    "                        # but are not completely successful. This logic separates them.\n",
    "                else:\n",
    "                    failed_builds += 1\n",
    "        else:\n",
    "            print(\"Error: JSON file does not contain a 'results' list.\")\n",
    "\n",
    "    except FileNotFoundError:\n",
    "        print(f\"Error: The file '{filename}' was not found.\")\n",
    "        return {}, {}\n",
    "    except json.JSONDecodeError:\n",
    "        print(f\"Error: The file '{filename}' contains invalid JSON.\")\n",
    "        return {}, {}\n",
    "    \n",
    "    total_builds = failed_builds + builds_with_failing_tests + builds_with_passing_tests\n",
    "    \n",
    "    summary = {\n",
    "        'total_builds': total_builds,\n",
    "        'successful_builds': successful_builds,\n",
    "        'failed_builds': failed_builds,\n",
    "        'builds_with_passing_tests': builds_with_passing_tests,\n",
    "        'builds_with_failing_tests': builds_with_failing_tests\n",
    "    }\n",
    "    \n",
    "    return summary, individual_counts\n",
    "\n"
   ]
  },
  {
   "cell_type": "code",
   "execution_count": 7,
   "id": "72815134",
   "metadata": {},
   "outputs": [
    {
     "name": "stdout",
     "output_type": "stream",
     "text": [
      "Total successful builds (build_ok=true and return_code=0): {'total_builds': 211, 'successful_builds': 38, 'failed_builds': 102, 'builds_with_passing_tests': 38, 'builds_with_failing_tests': 71}\n",
      "\n",
      "Individual counts for each outcome:\n",
      "  build_ok=False, return_code=0: 102\n",
      "  build_ok=True, return_code=0: 38\n",
      "  build_ok=True, return_code=1: 13\n",
      "  build_ok=True, return_code=4: 58\n"
     ]
    }
   ],
   "source": [
    "\n",
    "file_name = 'docker_test_summary.json'\n",
    "successful_count, individual_counts = analyze_build_results(file_name)\n",
    "\n",
    "# Print the results\n",
    "print(f\"Total successful builds (build_ok=true and return_code=0): {successful_count}\")\n",
    "print(\"\\nIndividual counts for each outcome:\")\n",
    "for (build_ok, return_code), count in individual_counts.items():\n",
    "    print(f\"  build_ok={build_ok}, return_code={return_code}: {count}\")\n",
    "\n"
   ]
  },
  {
   "cell_type": "code",
   "execution_count": null,
   "id": "3721b287",
   "metadata": {},
   "outputs": [],
   "source": []
  }
 ],
 "metadata": {
  "kernelspec": {
   "display_name": "venv",
   "language": "python",
   "name": "python3"
  },
  "language_info": {
   "codemirror_mode": {
    "name": "ipython",
    "version": 3
   },
   "file_extension": ".py",
   "mimetype": "text/x-python",
   "name": "python",
   "nbconvert_exporter": "python",
   "pygments_lexer": "ipython3",
   "version": "3.11.8"
  }
 },
 "nbformat": 4,
 "nbformat_minor": 5
}
